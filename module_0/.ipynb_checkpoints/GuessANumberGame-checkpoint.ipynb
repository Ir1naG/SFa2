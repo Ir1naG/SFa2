{
 "cells": [
  {
   "cell_type": "code",
   "execution_count": 8,
   "metadata": {},
   "outputs": [
    {
     "name": "stdout",
     "output_type": "stream",
     "text": [
      "Ваш алгоритм угадывает число в среднем за 5 попыток\n"
     ]
    },
    {
     "data": {
      "text/plain": [
       "5"
      ]
     },
     "execution_count": 8,
     "metadata": {},
     "output_type": "execute_result"
    }
   ],
   "source": [
    "import numpy as np\n",
    "\n",
    "#number = np.random.randint(1,101)    # загадали число\n",
    "#print (\"Загадано число от 1 до 100\")\n",
    "\n",
    "def game_core_fast(num):\n",
    "    '''Функция наискорейшего поиска сгенерированного числа в заданном диапазоне [left_bnd, right_bnd].\n",
    "       Реализует метод половинного деления.\n",
    "       Всегда выбираем середину диапазона, если сгенерированное число больше(меньше) середины,\n",
    "       выбираем соответственно правую(левую) половину диапазона и т.д., т.о. при каждой попытке \n",
    "       сокращая диапазон поиска вдвое. Функция возвращает число попыток'''\n",
    "    count = 0\n",
    "    left_bnd = 1\n",
    "    right_bnd = 100\n",
    "\n",
    "    while True:\n",
    "        predict = (left_bnd+right_bnd)//2\n",
    "        count+=1\n",
    "        if predict == num:\n",
    "            break # выход из цикла, если угадали\n",
    "        elif num > predict: \n",
    "            left_bnd = predict+1\n",
    "        else:\n",
    "            right_bnd = predict-1\n",
    "            \n",
    "    #print (f\"Вы угадали число {num} за {count} попыток.\")\n",
    "    return(count) \n",
    "\n",
    "#запускаем игру\n",
    "#game_core_fast(number)\n",
    "\n",
    "\n",
    "def score_game(game_core):\n",
    "    '''Запускаем игру 1000 раз, чтобы узнать, как быстро игра угадывает число'''\n",
    "    count_ls = []\n",
    "    np.random.seed(1)  # фиксируем RANDOM SEED, чтобы ваш эксперимент был воспроизводим!\n",
    "    random_array = np.random.randint(1,101, size=(1000))\n",
    "\n",
    "    for number in random_array:\n",
    "        count_ls.append(game_core(number))\n",
    "    score = int(np.mean(count_ls))\n",
    "    print(f\"Ваш алгоритм угадывает число в среднем за {score} попыток\")\n",
    "    return(score)\n",
    "\n",
    "# запускаем игру\n",
    "score_game(game_core_fast)"
   ]
  },
  {
   "cell_type": "code",
   "execution_count": null,
   "metadata": {},
   "outputs": [],
   "source": []
  }
 ],
 "metadata": {
  "kernelspec": {
   "display_name": "Python 3",
   "language": "python",
   "name": "python3"
  },
  "language_info": {
   "codemirror_mode": {
    "name": "ipython",
    "version": 3
   },
   "file_extension": ".py",
   "mimetype": "text/x-python",
   "name": "python",
   "nbconvert_exporter": "python",
   "pygments_lexer": "ipython3",
   "version": "3.7.4"
  }
 },
 "nbformat": 4,
 "nbformat_minor": 2
}
